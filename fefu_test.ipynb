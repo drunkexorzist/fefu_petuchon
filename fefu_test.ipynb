{
 "cells": [
  {
   "cell_type": "code",
   "execution_count": 3,
   "metadata": {},
   "outputs": [
    {
     "name": "stdout",
     "output_type": "stream",
     "text": [
      ":(\n"
     ]
    }
   ],
   "source": [
    "a = input()\n",
    "if a == \"Просто!\" or a == \"Easy!\" or a == \"Einfach!\":\n",
    "    print(\":)\")\n",
    "else:\n",
    "    print(\":(\")"
   ]
  },
  {
   "cell_type": "code",
   "execution_count": 80,
   "metadata": {},
   "outputs": [
    {
     "name": "stdout",
     "output_type": "stream",
     "text": [
      "повествовательное\n"
     ]
    }
   ],
   "source": [
    "a = input()\n",
    "q = \"вопросительное\"\n",
    "t = \"восклицательное\"\n",
    "if a.count(\"!\") >= 1 and a.count(\"?\") >= 1:\n",
    "    if a.count(\",\") >= 1:\n",
    "        print(\"сложное вопросительно-восклицательное\")\n",
    "    else:\n",
    "        print(\"вопросительно-восклицательное\")\n",
    "elif a.count(\"?\") >= 1:\n",
    "    if a.count(\",\") >= 1:\n",
    "        print(f\"сложное {q}\")\n",
    "    else:\n",
    "        print(q)\n",
    "elif a.count(\"!\") >= 1:\n",
    "    if a.count(\",\") >= 1:\n",
    "        print(f\"сложное {t}\")\n",
    "    else:\n",
    "        print(t)\n",
    "elif a.count(\",\") >= 1:\n",
    "    print(\"сложное повествовательное\")\n",
    "else:\n",
    "    print(\"повествовательное\")"
   ]
  },
  {
   "cell_type": "code",
   "execution_count": 12,
   "metadata": {},
   "outputs": [
    {
     "name": "stdout",
     "output_type": "stream",
     "text": [
      "FizzBuzz\n"
     ]
    }
   ],
   "source": [
    "a = int(input())\n",
    "if a % 3 == 0 and a % 5 == 0:\n",
    "    print(\"FizzBuzz\")\n",
    "elif a % 3 == 0:\n",
    "    print(\"Fizz\")\n",
    "elif a % 5 == 0:\n",
    "    print(\"Buzz\")\n",
    "else:\n",
    "    print(\"\")"
   ]
  },
  {
   "cell_type": "code",
   "execution_count": 12,
   "metadata": {},
   "outputs": [
    {
     "ename": "AttributeError",
     "evalue": "'OutStream' object has no attribute 'reconfigure'",
     "output_type": "error",
     "traceback": [
      "\u001b[1;31m---------------------------------------------------------------------------\u001b[0m",
      "\u001b[1;31mAttributeError\u001b[0m                            Traceback (most recent call last)",
      "\u001b[1;32mC:\\Users\\PERETO~1.YUS\\AppData\\Local\\Temp/ipykernel_14464/2495553574.py\u001b[0m in \u001b[0;36m<module>\u001b[1;34m\u001b[0m\n\u001b[0;32m      7\u001b[0m \u001b[1;33m\u001b[0m\u001b[0m\n\u001b[0;32m      8\u001b[0m \u001b[0msys\u001b[0m\u001b[1;33m.\u001b[0m\u001b[0mstdin\u001b[0m\u001b[1;33m.\u001b[0m\u001b[0mreconfigure\u001b[0m\u001b[1;33m(\u001b[0m\u001b[0mencoding\u001b[0m\u001b[1;33m=\u001b[0m\u001b[1;34m'utf-8'\u001b[0m\u001b[1;33m)\u001b[0m\u001b[1;33m\u001b[0m\u001b[1;33m\u001b[0m\u001b[0m\n\u001b[1;32m----> 9\u001b[1;33m \u001b[0msys\u001b[0m\u001b[1;33m.\u001b[0m\u001b[0mstdout\u001b[0m\u001b[1;33m.\u001b[0m\u001b[0mreconfigure\u001b[0m\u001b[1;33m(\u001b[0m\u001b[0mencoding\u001b[0m\u001b[1;33m=\u001b[0m\u001b[1;34m'utf-8'\u001b[0m\u001b[1;33m)\u001b[0m\u001b[1;33m\u001b[0m\u001b[1;33m\u001b[0m\u001b[0m\n\u001b[0m\u001b[0;32m     10\u001b[0m \u001b[1;33m\u001b[0m\u001b[0m\n\u001b[0;32m     11\u001b[0m \u001b[0ma\u001b[0m \u001b[1;33m=\u001b[0m \u001b[0minput\u001b[0m\u001b[1;33m(\u001b[0m\u001b[1;33m)\u001b[0m\u001b[1;33m\u001b[0m\u001b[1;33m\u001b[0m\u001b[0m\n",
      "\u001b[1;31mAttributeError\u001b[0m: 'OutStream' object has no attribute 'reconfigure'"
     ]
    }
   ],
   "source": [
    "\"\"\"\n",
    "import sys\n",
    "\n",
    "\n",
    "\"\"\"\n",
    "import sys\n",
    "\n",
    "sys.stdin.reconfigure(encoding='utf-8')\n",
    "sys.stdout.reconfigure(encoding='utf-8')\n",
    "\n",
    "a = input()\n",
    "b = input()\n",
    "c = input()\n",
    "name_list = []\n",
    "name_list.append(a)\n",
    "name_list.append(b)\n",
    "name_list.append(c)\n",
    "name_list.sort()\n",
    "d = name_list[0]\n",
    "print(d)"
   ]
  },
  {
   "cell_type": "code",
   "execution_count": 13,
   "metadata": {},
   "outputs": [
    {
     "ename": "AttributeError",
     "evalue": "'OutStream' object has no attribute 'reconfigure'",
     "output_type": "error",
     "traceback": [
      "\u001b[1;31m---------------------------------------------------------------------------\u001b[0m",
      "\u001b[1;31mAttributeError\u001b[0m                            Traceback (most recent call last)",
      "\u001b[1;32mC:\\Users\\PERETO~1.YUS\\AppData\\Local\\Temp/ipykernel_14464/1045848114.py\u001b[0m in \u001b[0;36m<module>\u001b[1;34m\u001b[0m\n\u001b[0;32m      2\u001b[0m \u001b[1;33m\u001b[0m\u001b[0m\n\u001b[0;32m      3\u001b[0m \u001b[0msys\u001b[0m\u001b[1;33m.\u001b[0m\u001b[0mstdin\u001b[0m\u001b[1;33m.\u001b[0m\u001b[0mreconfigure\u001b[0m\u001b[1;33m(\u001b[0m\u001b[0mencoding\u001b[0m\u001b[1;33m=\u001b[0m\u001b[1;34m'utf-8'\u001b[0m\u001b[1;33m)\u001b[0m\u001b[1;33m\u001b[0m\u001b[1;33m\u001b[0m\u001b[0m\n\u001b[1;32m----> 4\u001b[1;33m \u001b[0msys\u001b[0m\u001b[1;33m.\u001b[0m\u001b[0mstdout\u001b[0m\u001b[1;33m.\u001b[0m\u001b[0mreconfigure\u001b[0m\u001b[1;33m(\u001b[0m\u001b[0mencoding\u001b[0m\u001b[1;33m=\u001b[0m\u001b[1;34m'utf-8'\u001b[0m\u001b[1;33m)\u001b[0m\u001b[1;33m\u001b[0m\u001b[1;33m\u001b[0m\u001b[0m\n\u001b[0m\u001b[0;32m      5\u001b[0m \u001b[1;33m\u001b[0m\u001b[0m\n\u001b[0;32m      6\u001b[0m \u001b[0mar\u001b[0m \u001b[1;33m=\u001b[0m \u001b[0msys\u001b[0m\u001b[1;33m.\u001b[0m\u001b[0mstdin\u001b[0m\u001b[1;33m.\u001b[0m\u001b[0mread\u001b[0m\u001b[1;33m(\u001b[0m\u001b[1;33m)\u001b[0m\u001b[1;33m.\u001b[0m\u001b[0msplit\u001b[0m\u001b[1;33m(\u001b[0m\u001b[1;33m)\u001b[0m\u001b[1;33m\u001b[0m\u001b[1;33m\u001b[0m\u001b[0m\n",
      "\u001b[1;31mAttributeError\u001b[0m: 'OutStream' object has no attribute 'reconfigure'"
     ]
    }
   ],
   "source": [
    "import sys\n",
    "\n",
    "sys.stdin.reconfigure(encoding='utf-8')\n",
    "sys.stdout.reconfigure(encoding='utf-8')\n",
    "\n",
    "ar = sys.stdin.read().split()\n",
    "\n",
    "print(sorted(ar)[0])"
   ]
  },
  {
   "cell_type": "code",
   "execution_count": 23,
   "metadata": {},
   "outputs": [
    {
     "name": "stdout",
     "output_type": "stream",
     "text": [
      "d\n",
      "c\n",
      "b\n",
      "a\n"
     ]
    }
   ],
   "source": [
    "n = int(input())\n",
    "list = []\n",
    "for i in range(n):\n",
    "    list.append(input())\n",
    "\n",
    "for i in reversed(list):\n",
    "    print(i)"
   ]
  },
  {
   "cell_type": "code",
   "execution_count": 85,
   "metadata": {},
   "outputs": [
    {
     "name": "stdout",
     "output_type": "stream",
     "text": [
      "3\n",
      "14\n"
     ]
    }
   ],
   "source": [
    "with open('input.txt', 'r') as fin:\n",
    "    a, b = map(int, fin.read().split())\n",
    "\n",
    "print(a)\n",
    "print(b)"
   ]
  },
  {
   "cell_type": "code",
   "execution_count": null,
   "metadata": {},
   "outputs": [],
   "source": [
    "\"\"\"\n",
    "if a % 2 == 0 and b % 2 != 0 or b % 2 == 0 and a % 2 != 0:\n",
    "    if a > b:\n",
    "        if a % 4 == 0:\n",
    "            with open('output.txt', 'w') as fout:\n",
    "                print(a, file=fout)\n",
    "        else:\n",
    "            while a % 4 !=0:\n",
    "                a += 1\n",
    "            with open('output.txt', 'w') as fout:\n",
    "                print(a, file=fout)\n",
    "    if b > a:\n",
    "        if b % 4 == 0:\n",
    "            with open('output.txt', 'w') as fout:\n",
    "                print(b, file=fout)\n",
    "        else:\n",
    "            while b % 4 !=0:\n",
    "                b += 1\n",
    "            with open('output.txt', 'w') as fout:\n",
    "                print(b, file=fout)\n",
    "else:\n",
    "    with open('output.txt', 'w') as fout:\n",
    "        print(0, file=fout)\n",
    "\n",
    "\"\"\""
   ]
  },
  {
   "cell_type": "code",
   "execution_count": 110,
   "metadata": {},
   "outputs": [],
   "source": [
    "with open('input.txt', 'r') as fin:\n",
    "    a, b = map(int, fin.read().split())\n",
    "\n",
    "if (a + b - 1) % 4 == 0:\n",
    "    with open('output.txt', 'w') as fout:\n",
    "        print(a + b - 1, file=fout)\n",
    "\n",
    "else:\n",
    "    with open('output.txt', 'w') as fout:\n",
    "        print(0, file=fout)\n",
    "    \n"
   ]
  },
  {
   "cell_type": "code",
   "execution_count": 2,
   "metadata": {},
   "outputs": [
    {
     "ename": "KeyboardInterrupt",
     "evalue": "",
     "output_type": "error",
     "traceback": [
      "\u001b[1;31m---------------------------------------------------------------------------\u001b[0m",
      "\u001b[1;31mKeyboardInterrupt\u001b[0m                         Traceback (most recent call last)",
      "\u001b[1;32mC:\\Users\\PERETO~1.YUS\\AppData\\Local\\Temp/ipykernel_14464/2822440929.py\u001b[0m in \u001b[0;36m<module>\u001b[1;34m\u001b[0m\n\u001b[0;32m      5\u001b[0m \u001b[1;32mwhile\u001b[0m \u001b[1;32mTrue\u001b[0m\u001b[1;33m:\u001b[0m\u001b[1;33m\u001b[0m\u001b[1;33m\u001b[0m\u001b[0m\n\u001b[0;32m      6\u001b[0m     \u001b[1;32mif\u001b[0m \u001b[0mgo_h\u001b[0m \u001b[1;33m+\u001b[0m \u001b[0mar_h\u001b[0m \u001b[1;33m>\u001b[0m \u001b[1;36m23\u001b[0m\u001b[1;33m:\u001b[0m\u001b[1;33m\u001b[0m\u001b[1;33m\u001b[0m\u001b[0m\n\u001b[1;32m----> 7\u001b[1;33m         \u001b[0mh\u001b[0m \u001b[1;33m=\u001b[0m \u001b[1;33m(\u001b[0m\u001b[0mgo_h\u001b[0m \u001b[1;33m+\u001b[0m \u001b[0mar_h\u001b[0m\u001b[1;33m)\u001b[0m \u001b[1;33m-\u001b[0m \u001b[1;36m23\u001b[0m\u001b[1;33m\u001b[0m\u001b[1;33m\u001b[0m\u001b[0m\n\u001b[0m\u001b[0;32m      8\u001b[0m     \u001b[1;32melse\u001b[0m\u001b[1;33m:\u001b[0m\u001b[1;33m\u001b[0m\u001b[1;33m\u001b[0m\u001b[0m\n\u001b[0;32m      9\u001b[0m         \u001b[1;32mbreak\u001b[0m\u001b[1;33m\u001b[0m\u001b[1;33m\u001b[0m\u001b[0m\n",
      "\u001b[1;31mKeyboardInterrupt\u001b[0m: "
     ]
    }
   ],
   "source": [
    "with open('input.txt', 'r') as fin:\n",
    "    go_h, go_m, ar_h, ar_m = map(int, fin.read().split())\n",
    "\n",
    "h = 0\n",
    "while True:\n",
    "    if go_h + ar_h > 23:\n",
    "        h = (go_h + ar_h) - 23\n",
    "    else:\n",
    "        break\n",
    "print(h)\n",
    "\n",
    "\n",
    "\n",
    "#while True:\n",
    "#    if go_h + ar_h > 23:\n",
    "#        in_h = (go_h + ar_h) - 23\n",
    "#        if in_h > 23:\n",
    "#            in_h -= 23\n",
    "#        break\n",
    "#else:\n",
    "#    in_h = go_h + ar_h\n",
    "#\n",
    "#if go_m + ar_m > 59:\n",
    "#    in_m = (go_m + ar_m) - 60\n",
    "#else:\n",
    "#    in_m = go_m + ar_m\n",
    "#\n",
    "#with open('output.txt', 'w') as fout:\n",
    "#        print(in_h, in_m, file=fout)"
   ]
  },
  {
   "cell_type": "code",
   "execution_count": 62,
   "metadata": {},
   "outputs": [],
   "source": [
    "with open('input.txt', 'r') as fin:\n",
    "    a, b, c, d = map(int, fin.read().split())\n",
    "\n",
    "res_h = a + c\n",
    "res_m = b + d\n",
    "while res_h >= 24:\n",
    "    if res_h >= 24:\n",
    "        res_h -= 24\n",
    "if res_m >= 60:\n",
    "    res_m -= 60\n",
    "    res_h += 1\n",
    "\n",
    "with open('output.txt', 'w') as fout:\n",
    "    print(res_h, res_m, file=fout)"
   ]
  },
  {
   "cell_type": "code",
   "execution_count": 1,
   "metadata": {},
   "outputs": [],
   "source": [
    "with open('input.txt', 'r') as fin:\n",
    "    a, b, t = map(int, fin.read().split())\n",
    "answer = \"S\"\n",
    "if a >= 1 and b >= 1 and t <= 5 * 10 ** 8:\n",
    "    p = (a + b) * 2\n",
    "\n",
    "    if t > p:\n",
    "        t %= p\n",
    "    if t != p:\n",
    "        if t >= a:\n",
    "            t -= a\n",
    "            if t >= b:\n",
    "                t -= b\n",
    "                if t >= a:\n",
    "                    t -= a\n",
    "                    if t >= b:\n",
    "                        answer = \"S\"\n",
    "                    else:\n",
    "                        answer = \"W\"\n",
    "                else:\n",
    "                    answer = \"N\"\n",
    "            else:\n",
    "                answer = \"E\"\n",
    "        else:\n",
    "            answer = \"S\"\n",
    "    else:\n",
    "        answer = \"S\"\n",
    "    \n",
    "with open('output.txt', 'w') as fout:\n",
    "    print(answer, file=fout)"
   ]
  },
  {
   "cell_type": "code",
   "execution_count": 140,
   "metadata": {},
   "outputs": [
    {
     "name": "stdout",
     "output_type": "stream",
     "text": [
      "5.0 15.0\n",
      "2.5 5.0\n"
     ]
    }
   ],
   "source": [
    "\"\"\"\n",
    "  D   T\n",
    "10.0 5.0\n",
    "\n",
    " v1  v2\n",
    "1.0 3.0\n",
    "\n",
    "t_v_1 = v1 * T\n",
    "t_v_2 = v2 * T\n",
    "\n",
    " w1  w2\n",
    "0.5 1.0\n",
    "\n",
    "расстояние \\ время = скорость\n",
    "\"\"\"\n",
    "with open('input.txt', 'r') as fin:\n",
    "    d, t, v1, v2, w1, w2 = map(float, fin.read().split())\n",
    "\n",
    "v_v_1 = v1 * t\n",
    "v_v_2 = v2 * t\n",
    "\n",
    "v_w_1 = w1 * t\n",
    "v_w_2 = w2 * t\n",
    "\n",
    "t_v = 0\n",
    "d_v = 0\n",
    "\n",
    "\"\"\"\n",
    "цикл в котором подбираем время от 0 до t:\n",
    "    цикл в котором подбираем расстояние:\n",
    "        d_v = 0\n",
    "        условие подбора:\n",
    "            успех\n",
    "        d_v += 1\n",
    "    t_v += 1\n",
    "\n",
    "while d_v / t_v != v_v_1:\n",
    "    t_v += 1\n",
    "    while True:\n",
    "        d_v += 1\n",
    "\n",
    "\n",
    "for i in range(20):\n",
    "    if d_v / t_v != v_v_1:\n",
    "        t_v += 1\n",
    "\"\"\"\n",
    "\n",
    "print(v_v_1, v_v_2) # v\n",
    "print(v_w_1, v_w_2) # w\n",
    "\n"
   ]
  },
  {
   "cell_type": "code",
   "execution_count": 12,
   "metadata": {},
   "outputs": [],
   "source": [
    "with open('input.txt', 'r') as fin:\n",
    "    s, t, v1, v2, w1, w2 = map(float, fin.read().split())\n",
    "\n",
    "count = 0\n",
    "\n",
    "max = 0\n",
    "\n",
    "\n",
    "def truncate(n, m):\n",
    "    num = str(n)\n",
    "    i = num.index(\".\")\n",
    "    truncated = num[:i + m]\n",
    "    return float(truncated)\n",
    "\n",
    "\n",
    "def setMax(v, w):\n",
    "    global max\n",
    "    m = count * v\n",
    "    fullS = m + (t - count) * w\n",
    "    if truncate(fullS, 4) == s:\n",
    "        if(m > max):\n",
    "            max = m\n",
    "\n",
    "\n",
    "while count < t:\n",
    "    setMax(v1, w1)\n",
    "    setMax(v1, w2)\n",
    "    setMax(v2, w1)\n",
    "    setMax(v2, w2)\n",
    "    count = round(count + 0.0001, 4)\n",
    "\n",
    "max = round(max,1)\n",
    "with open('output.txt', 'w') as fout:\n",
    "    print(max, file=fout)"
   ]
  },
  {
   "cell_type": "code",
   "execution_count": null,
   "metadata": {},
   "outputs": [],
   "source": [
    "#4A \n",
    "import numpy as np \n",
    "import sys\n",
    "_, *a = map(int, sys.stdin.read().split())\n",
    "\n",
    "a = np.cumsum(a)\n",
    "\n",
    "print(a[a >= 1000][0])"
   ]
  },
  {
   "cell_type": "code",
   "execution_count": null,
   "metadata": {},
   "outputs": [],
   "source": [
    "#4B"
   ]
  }
 ],
 "metadata": {
  "interpreter": {
   "hash": "8cc3f21c551cfee97d7e38df2dbc96e196615717cec21201fc9222b2cd92e292"
  },
  "kernelspec": {
   "display_name": "Python 3.9.6 64-bit",
   "name": "python3"
  },
  "language_info": {
   "codemirror_mode": {
    "name": "ipython",
    "version": 3
   },
   "file_extension": ".py",
   "mimetype": "text/x-python",
   "name": "python",
   "nbconvert_exporter": "python",
   "pygments_lexer": "ipython3",
   "version": "3.9.6"
  },
  "orig_nbformat": 4
 },
 "nbformat": 4,
 "nbformat_minor": 2
}
