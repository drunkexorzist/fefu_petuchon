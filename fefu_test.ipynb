{
 "cells": [
  {
   "cell_type": "code",
   "execution_count": 3,
   "source": [
    "a = input()\r\n",
    "if a == \"Просто!\" or a == \"Easy!\" or a == \"Einfach!\":\r\n",
    "    print(\":)\")\r\n",
    "else:\r\n",
    "    print(\":(\")"
   ],
   "outputs": [
    {
     "output_type": "stream",
     "name": "stdout",
     "text": [
      ":(\n"
     ]
    }
   ],
   "metadata": {}
  },
  {
   "cell_type": "code",
   "execution_count": 80,
   "source": [
    "a = input()\r\n",
    "q = \"вопросительное\"\r\n",
    "t = \"восклицательное\"\r\n",
    "if a.count(\"!\") >= 1 and a.count(\"?\") >= 1:\r\n",
    "    if a.count(\",\") >= 1:\r\n",
    "        print(\"сложное вопросительно-восклицательное\")\r\n",
    "    else:\r\n",
    "        print(\"вопросительно-восклицательное\")\r\n",
    "elif a.count(\"?\") >= 1:\r\n",
    "    if a.count(\",\") >= 1:\r\n",
    "        print(f\"сложное {q}\")\r\n",
    "    else:\r\n",
    "        print(q)\r\n",
    "elif a.count(\"!\") >= 1:\r\n",
    "    if a.count(\",\") >= 1:\r\n",
    "        print(f\"сложное {t}\")\r\n",
    "    else:\r\n",
    "        print(t)\r\n",
    "elif a.count(\",\") >= 1:\r\n",
    "    print(\"сложное повествовательное\")\r\n",
    "else:\r\n",
    "    print(\"повествовательное\")"
   ],
   "outputs": [
    {
     "output_type": "stream",
     "name": "stdout",
     "text": [
      "повествовательное\n"
     ]
    }
   ],
   "metadata": {}
  },
  {
   "cell_type": "code",
   "execution_count": 12,
   "source": [
    "a = int(input())\r\n",
    "if a % 3 == 0 and a % 5 == 0:\r\n",
    "    print(\"FizzBuzz\")\r\n",
    "elif a % 3 == 0:\r\n",
    "    print(\"Fizz\")\r\n",
    "elif a % 5 == 0:\r\n",
    "    print(\"Buzz\")\r\n",
    "else:\r\n",
    "    print(\"\")"
   ],
   "outputs": [
    {
     "output_type": "stream",
     "name": "stdout",
     "text": [
      "FizzBuzz\n"
     ]
    }
   ],
   "metadata": {}
  },
  {
   "cell_type": "code",
   "execution_count": 12,
   "source": [
    "\"\"\"\r\n",
    "import sys\r\n",
    "\r\n",
    "\r\n",
    "\"\"\"\r\n",
    "import sys\r\n",
    "\r\n",
    "sys.stdin.reconfigure(encoding='utf-8')\r\n",
    "sys.stdout.reconfigure(encoding='utf-8')\r\n",
    "\r\n",
    "a = input()\r\n",
    "b = input()\r\n",
    "c = input()\r\n",
    "name_list = []\r\n",
    "name_list.append(a)\r\n",
    "name_list.append(b)\r\n",
    "name_list.append(c)\r\n",
    "name_list.sort()\r\n",
    "d = name_list[0]\r\n",
    "print(d)"
   ],
   "outputs": [
    {
     "output_type": "error",
     "ename": "AttributeError",
     "evalue": "'OutStream' object has no attribute 'reconfigure'",
     "traceback": [
      "\u001b[1;31m---------------------------------------------------------------------------\u001b[0m",
      "\u001b[1;31mAttributeError\u001b[0m                            Traceback (most recent call last)",
      "\u001b[1;32mC:\\Users\\PERETO~1.YUS\\AppData\\Local\\Temp/ipykernel_14464/2495553574.py\u001b[0m in \u001b[0;36m<module>\u001b[1;34m\u001b[0m\n\u001b[0;32m      7\u001b[0m \u001b[1;33m\u001b[0m\u001b[0m\n\u001b[0;32m      8\u001b[0m \u001b[0msys\u001b[0m\u001b[1;33m.\u001b[0m\u001b[0mstdin\u001b[0m\u001b[1;33m.\u001b[0m\u001b[0mreconfigure\u001b[0m\u001b[1;33m(\u001b[0m\u001b[0mencoding\u001b[0m\u001b[1;33m=\u001b[0m\u001b[1;34m'utf-8'\u001b[0m\u001b[1;33m)\u001b[0m\u001b[1;33m\u001b[0m\u001b[1;33m\u001b[0m\u001b[0m\n\u001b[1;32m----> 9\u001b[1;33m \u001b[0msys\u001b[0m\u001b[1;33m.\u001b[0m\u001b[0mstdout\u001b[0m\u001b[1;33m.\u001b[0m\u001b[0mreconfigure\u001b[0m\u001b[1;33m(\u001b[0m\u001b[0mencoding\u001b[0m\u001b[1;33m=\u001b[0m\u001b[1;34m'utf-8'\u001b[0m\u001b[1;33m)\u001b[0m\u001b[1;33m\u001b[0m\u001b[1;33m\u001b[0m\u001b[0m\n\u001b[0m\u001b[0;32m     10\u001b[0m \u001b[1;33m\u001b[0m\u001b[0m\n\u001b[0;32m     11\u001b[0m \u001b[0ma\u001b[0m \u001b[1;33m=\u001b[0m \u001b[0minput\u001b[0m\u001b[1;33m(\u001b[0m\u001b[1;33m)\u001b[0m\u001b[1;33m\u001b[0m\u001b[1;33m\u001b[0m\u001b[0m\n",
      "\u001b[1;31mAttributeError\u001b[0m: 'OutStream' object has no attribute 'reconfigure'"
     ]
    }
   ],
   "metadata": {}
  },
  {
   "cell_type": "code",
   "execution_count": 13,
   "source": [
    "import sys\r\n",
    "\r\n",
    "sys.stdin.reconfigure(encoding='utf-8')\r\n",
    "sys.stdout.reconfigure(encoding='utf-8')\r\n",
    "\r\n",
    "ar = sys.stdin.read().split()\r\n",
    "\r\n",
    "print(sorted(ar)[0])"
   ],
   "outputs": [
    {
     "output_type": "error",
     "ename": "AttributeError",
     "evalue": "'OutStream' object has no attribute 'reconfigure'",
     "traceback": [
      "\u001b[1;31m---------------------------------------------------------------------------\u001b[0m",
      "\u001b[1;31mAttributeError\u001b[0m                            Traceback (most recent call last)",
      "\u001b[1;32mC:\\Users\\PERETO~1.YUS\\AppData\\Local\\Temp/ipykernel_14464/1045848114.py\u001b[0m in \u001b[0;36m<module>\u001b[1;34m\u001b[0m\n\u001b[0;32m      2\u001b[0m \u001b[1;33m\u001b[0m\u001b[0m\n\u001b[0;32m      3\u001b[0m \u001b[0msys\u001b[0m\u001b[1;33m.\u001b[0m\u001b[0mstdin\u001b[0m\u001b[1;33m.\u001b[0m\u001b[0mreconfigure\u001b[0m\u001b[1;33m(\u001b[0m\u001b[0mencoding\u001b[0m\u001b[1;33m=\u001b[0m\u001b[1;34m'utf-8'\u001b[0m\u001b[1;33m)\u001b[0m\u001b[1;33m\u001b[0m\u001b[1;33m\u001b[0m\u001b[0m\n\u001b[1;32m----> 4\u001b[1;33m \u001b[0msys\u001b[0m\u001b[1;33m.\u001b[0m\u001b[0mstdout\u001b[0m\u001b[1;33m.\u001b[0m\u001b[0mreconfigure\u001b[0m\u001b[1;33m(\u001b[0m\u001b[0mencoding\u001b[0m\u001b[1;33m=\u001b[0m\u001b[1;34m'utf-8'\u001b[0m\u001b[1;33m)\u001b[0m\u001b[1;33m\u001b[0m\u001b[1;33m\u001b[0m\u001b[0m\n\u001b[0m\u001b[0;32m      5\u001b[0m \u001b[1;33m\u001b[0m\u001b[0m\n\u001b[0;32m      6\u001b[0m \u001b[0mar\u001b[0m \u001b[1;33m=\u001b[0m \u001b[0msys\u001b[0m\u001b[1;33m.\u001b[0m\u001b[0mstdin\u001b[0m\u001b[1;33m.\u001b[0m\u001b[0mread\u001b[0m\u001b[1;33m(\u001b[0m\u001b[1;33m)\u001b[0m\u001b[1;33m.\u001b[0m\u001b[0msplit\u001b[0m\u001b[1;33m(\u001b[0m\u001b[1;33m)\u001b[0m\u001b[1;33m\u001b[0m\u001b[1;33m\u001b[0m\u001b[0m\n",
      "\u001b[1;31mAttributeError\u001b[0m: 'OutStream' object has no attribute 'reconfigure'"
     ]
    }
   ],
   "metadata": {}
  },
  {
   "cell_type": "code",
   "execution_count": 23,
   "source": [
    "n = int(input())\r\n",
    "list = []\r\n",
    "for i in range(n):\r\n",
    "    list.append(input())\r\n",
    "\r\n",
    "for i in reversed(list):\r\n",
    "    print(i)"
   ],
   "outputs": [
    {
     "output_type": "stream",
     "name": "stdout",
     "text": [
      "d\n",
      "c\n",
      "b\n",
      "a\n"
     ]
    }
   ],
   "metadata": {}
  },
  {
   "cell_type": "code",
   "execution_count": 85,
   "source": [
    "with open('input.txt', 'r') as fin:\r\n",
    "    a, b = map(int, fin.read().split())\r\n",
    "\r\n",
    "print(a)\r\n",
    "print(b)"
   ],
   "outputs": [
    {
     "output_type": "stream",
     "name": "stdout",
     "text": [
      "3\n",
      "14\n"
     ]
    }
   ],
   "metadata": {}
  },
  {
   "cell_type": "code",
   "execution_count": null,
   "source": [
    "\"\"\"\r\n",
    "if a % 2 == 0 and b % 2 != 0 or b % 2 == 0 and a % 2 != 0:\r\n",
    "    if a > b:\r\n",
    "        if a % 4 == 0:\r\n",
    "            with open('output.txt', 'w') as fout:\r\n",
    "                print(a, file=fout)\r\n",
    "        else:\r\n",
    "            while a % 4 !=0:\r\n",
    "                a += 1\r\n",
    "            with open('output.txt', 'w') as fout:\r\n",
    "                print(a, file=fout)\r\n",
    "    if b > a:\r\n",
    "        if b % 4 == 0:\r\n",
    "            with open('output.txt', 'w') as fout:\r\n",
    "                print(b, file=fout)\r\n",
    "        else:\r\n",
    "            while b % 4 !=0:\r\n",
    "                b += 1\r\n",
    "            with open('output.txt', 'w') as fout:\r\n",
    "                print(b, file=fout)\r\n",
    "else:\r\n",
    "    with open('output.txt', 'w') as fout:\r\n",
    "        print(0, file=fout)\r\n",
    "\r\n",
    "\"\"\""
   ],
   "outputs": [],
   "metadata": {}
  },
  {
   "cell_type": "code",
   "execution_count": 110,
   "source": [
    "with open('input.txt', 'r') as fin:\r\n",
    "    a, b = map(int, fin.read().split())\r\n",
    "\r\n",
    "if (a + b - 1) % 4 == 0:\r\n",
    "    with open('output.txt', 'w') as fout:\r\n",
    "        print(a + b - 1, file=fout)\r\n",
    "\r\n",
    "else:\r\n",
    "    with open('output.txt', 'w') as fout:\r\n",
    "        print(0, file=fout)\r\n",
    "    \r\n"
   ],
   "outputs": [],
   "metadata": {}
  },
  {
   "cell_type": "code",
   "execution_count": 2,
   "source": [
    "with open('input.txt', 'r') as fin:\r\n",
    "    go_h, go_m, ar_h, ar_m = map(int, fin.read().split())\r\n",
    "\r\n",
    "h = 0\r\n",
    "while True:\r\n",
    "    if go_h + ar_h > 23:\r\n",
    "        h = (go_h + ar_h) - 23\r\n",
    "    else:\r\n",
    "        break\r\n",
    "print(h)\r\n",
    "\r\n",
    "\r\n",
    "\r\n",
    "#while True:\r\n",
    "#    if go_h + ar_h > 23:\r\n",
    "#        in_h = (go_h + ar_h) - 23\r\n",
    "#        if in_h > 23:\r\n",
    "#            in_h -= 23\r\n",
    "#        break\r\n",
    "#else:\r\n",
    "#    in_h = go_h + ar_h\r\n",
    "#\r\n",
    "#if go_m + ar_m > 59:\r\n",
    "#    in_m = (go_m + ar_m) - 60\r\n",
    "#else:\r\n",
    "#    in_m = go_m + ar_m\r\n",
    "#\r\n",
    "#with open('output.txt', 'w') as fout:\r\n",
    "#        print(in_h, in_m, file=fout)"
   ],
   "outputs": [
    {
     "output_type": "error",
     "ename": "KeyboardInterrupt",
     "evalue": "",
     "traceback": [
      "\u001b[1;31m---------------------------------------------------------------------------\u001b[0m",
      "\u001b[1;31mKeyboardInterrupt\u001b[0m                         Traceback (most recent call last)",
      "\u001b[1;32mC:\\Users\\PERETO~1.YUS\\AppData\\Local\\Temp/ipykernel_14464/2822440929.py\u001b[0m in \u001b[0;36m<module>\u001b[1;34m\u001b[0m\n\u001b[0;32m      5\u001b[0m \u001b[1;32mwhile\u001b[0m \u001b[1;32mTrue\u001b[0m\u001b[1;33m:\u001b[0m\u001b[1;33m\u001b[0m\u001b[1;33m\u001b[0m\u001b[0m\n\u001b[0;32m      6\u001b[0m     \u001b[1;32mif\u001b[0m \u001b[0mgo_h\u001b[0m \u001b[1;33m+\u001b[0m \u001b[0mar_h\u001b[0m \u001b[1;33m>\u001b[0m \u001b[1;36m23\u001b[0m\u001b[1;33m:\u001b[0m\u001b[1;33m\u001b[0m\u001b[1;33m\u001b[0m\u001b[0m\n\u001b[1;32m----> 7\u001b[1;33m         \u001b[0mh\u001b[0m \u001b[1;33m=\u001b[0m \u001b[1;33m(\u001b[0m\u001b[0mgo_h\u001b[0m \u001b[1;33m+\u001b[0m \u001b[0mar_h\u001b[0m\u001b[1;33m)\u001b[0m \u001b[1;33m-\u001b[0m \u001b[1;36m23\u001b[0m\u001b[1;33m\u001b[0m\u001b[1;33m\u001b[0m\u001b[0m\n\u001b[0m\u001b[0;32m      8\u001b[0m     \u001b[1;32melse\u001b[0m\u001b[1;33m:\u001b[0m\u001b[1;33m\u001b[0m\u001b[1;33m\u001b[0m\u001b[0m\n\u001b[0;32m      9\u001b[0m         \u001b[1;32mbreak\u001b[0m\u001b[1;33m\u001b[0m\u001b[1;33m\u001b[0m\u001b[0m\n",
      "\u001b[1;31mKeyboardInterrupt\u001b[0m: "
     ]
    }
   ],
   "metadata": {}
  },
  {
   "cell_type": "code",
   "execution_count": 62,
   "source": [
    "with open('input.txt', 'r') as fin:\r\n",
    "    a, b, c, d = map(int, fin.read().split())\r\n",
    "\r\n",
    "res_h = a + c\r\n",
    "res_m = b + d\r\n",
    "while res_h >= 24:\r\n",
    "    if res_h >= 24:\r\n",
    "        res_h -= 24\r\n",
    "if res_m >= 60:\r\n",
    "    res_m -= 60\r\n",
    "    res_h += 1\r\n",
    "\r\n",
    "with open('output.txt', 'w') as fout:\r\n",
    "    print(res_h, res_m, file=fout)"
   ],
   "outputs": [],
   "metadata": {}
  },
  {
   "cell_type": "code",
   "execution_count": 1,
   "source": [
    "with open('input.txt', 'r') as fin:\r\n",
    "    a, b, t = map(int, fin.read().split())\r\n",
    "answer = \"S\"\r\n",
    "if a >= 1 and b >= 1 and t <= 5 * 10 ** 8:\r\n",
    "    p = (a + b) * 2\r\n",
    "\r\n",
    "    if t > p:\r\n",
    "        t %= p\r\n",
    "    if t != p:\r\n",
    "        if t >= a:\r\n",
    "            t -= a\r\n",
    "            if t >= b:\r\n",
    "                t -= b\r\n",
    "                if t >= a:\r\n",
    "                    t -= a\r\n",
    "                    if t >= b:\r\n",
    "                        answer = \"S\"\r\n",
    "                    else:\r\n",
    "                        answer = \"W\"\r\n",
    "                else:\r\n",
    "                    answer = \"N\"\r\n",
    "            else:\r\n",
    "                answer = \"E\"\r\n",
    "        else:\r\n",
    "            answer = \"S\"\r\n",
    "    else:\r\n",
    "        answer = \"S\"\r\n",
    "    \r\n",
    "with open('output.txt', 'w') as fout:\r\n",
    "    print(answer, file=fout)"
   ],
   "outputs": [],
   "metadata": {}
  },
  {
   "cell_type": "code",
   "execution_count": 140,
   "source": [
    "\"\"\"\r\n",
    "  D   T\r\n",
    "10.0 5.0\r\n",
    "\r\n",
    " v1  v2\r\n",
    "1.0 3.0\r\n",
    "\r\n",
    "t_v_1 = v1 * T\r\n",
    "t_v_2 = v2 * T\r\n",
    "\r\n",
    " w1  w2\r\n",
    "0.5 1.0\r\n",
    "\r\n",
    "расстояние \\ время = скорость\r\n",
    "\"\"\"\r\n",
    "with open('input.txt', 'r') as fin:\r\n",
    "    d, t, v1, v2, w1, w2 = map(float, fin.read().split())\r\n",
    "\r\n",
    "v_v_1 = v1 * t\r\n",
    "v_v_2 = v2 * t\r\n",
    "\r\n",
    "v_w_1 = w1 * t\r\n",
    "v_w_2 = w2 * t\r\n",
    "\r\n",
    "t_v = 0\r\n",
    "d_v = 0\r\n",
    "\r\n",
    "\"\"\"\r\n",
    "цикл в котором подбираем время от 0 до t:\r\n",
    "    цикл в котором подбираем расстояние:\r\n",
    "        d_v = 0\r\n",
    "        условие подбора:\r\n",
    "            успех\r\n",
    "        d_v += 1\r\n",
    "    t_v += 1\r\n",
    "\r\n",
    "while d_v / t_v != v_v_1:\r\n",
    "    t_v += 1\r\n",
    "    while True:\r\n",
    "        d_v += 1\r\n",
    "\r\n",
    "\r\n",
    "for i in range(20):\r\n",
    "    if d_v / t_v != v_v_1:\r\n",
    "        t_v += 1\r\n",
    "\"\"\"\r\n",
    "\r\n",
    "print(v_v_1, v_v_2) # v\r\n",
    "print(v_w_1, v_w_2) # w\r\n",
    "\r\n"
   ],
   "outputs": [
    {
     "output_type": "stream",
     "name": "stdout",
     "text": [
      "5.0 15.0\n",
      "2.5 5.0\n"
     ]
    }
   ],
   "metadata": {}
  },
  {
   "cell_type": "code",
   "execution_count": 12,
   "source": [
    "with open('input.txt', 'r') as fin:\r\n",
    "    s, t, v1, v2, w1, w2 = map(float, fin.read().split())\r\n",
    "\r\n",
    "count = 0\r\n",
    "\r\n",
    "max = 0\r\n",
    "\r\n",
    "\r\n",
    "def truncate(n, m):\r\n",
    "    num = str(n)\r\n",
    "    i = num.index(\".\")\r\n",
    "    truncated = num[:i + m]\r\n",
    "    return float(truncated)\r\n",
    "\r\n",
    "\r\n",
    "def setMax(v, w):\r\n",
    "    global max\r\n",
    "    m = count * v\r\n",
    "    fullS = m + (t - count) * w\r\n",
    "    if truncate(fullS, 4) == s:\r\n",
    "        if(m > max):\r\n",
    "            max = m\r\n",
    "\r\n",
    "\r\n",
    "while count < t:\r\n",
    "    setMax(v1, w1)\r\n",
    "    setMax(v1, w2)\r\n",
    "    setMax(v2, w1)\r\n",
    "    setMax(v2, w2)\r\n",
    "    count = round(count + 0.0001, 4)\r\n",
    "\r\n",
    "max = round(max,1)\r\n",
    "with open('output.txt', 'w') as fout:\r\n",
    "    print(max, file=fout)"
   ],
   "outputs": [],
   "metadata": {}
  }
 ],
 "metadata": {
  "orig_nbformat": 4,
  "language_info": {
   "name": "python",
   "version": "3.9.6",
   "mimetype": "text/x-python",
   "codemirror_mode": {
    "name": "ipython",
    "version": 3
   },
   "pygments_lexer": "ipython3",
   "nbconvert_exporter": "python",
   "file_extension": ".py"
  },
  "kernelspec": {
   "name": "python3",
   "display_name": "Python 3.9.6 64-bit"
  },
  "interpreter": {
   "hash": "8cc3f21c551cfee97d7e38df2dbc96e196615717cec21201fc9222b2cd92e292"
  }
 },
 "nbformat": 4,
 "nbformat_minor": 2
}