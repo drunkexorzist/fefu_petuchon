{
 "cells": [
  {
   "cell_type": "code",
   "execution_count": null,
   "source": [
    "# 3A\r\n",
    "a = input()\r\n",
    "while a != \"Stop!\":\r\n",
    "    print(\"Каша\")\r\n",
    "    a = input()\r\n",
    "print(\"Ок\")"
   ],
   "outputs": [],
   "metadata": {}
  },
  {
   "cell_type": "code",
   "execution_count": null,
   "source": [
    "# 3B\r\n",
    "b = 0\r\n",
    "for i in range(int(input())):\r\n",
    "    a = input().lower()\r\n",
    "    if a == \"boletus edulis\":\r\n",
    "        b += 1\r\n",
    "print(b)"
   ],
   "outputs": [],
   "metadata": {}
  },
  {
   "cell_type": "code",
   "execution_count": null,
   "source": [
    "# 3C\r\n",
    "a = int(input())\r\n",
    "b = 0\r\n",
    "for i in reversed(range(1,a + 1)):\r\n",
    "    print(str(i) + \"!\" * b)\r\n",
    "    i -= 1\r\n",
    "    b += 1\r\n",
    "print(\"Start\" + \"!\" * a)"
   ],
   "outputs": [],
   "metadata": {}
  },
  {
   "cell_type": "code",
   "execution_count": null,
   "source": [
    "# 3D\r\n",
    "a = int(input())\r\n",
    "for i in range(1, a + 1):\r\n",
    "    for j in range(1, a + 1):\r\n",
    "        print(f\"{i} * {j} = {i * j}\")\r\n",
    "        "
   ],
   "outputs": [],
   "metadata": {}
  },
  {
   "cell_type": "code",
   "execution_count": 255,
   "source": [
    "# 3E\r\n",
    "\"\"\"\r\n",
    "1 буква маленька => заменить на 1 большую\r\n",
    "ATest => a_test\r\n",
    "\"\"\"\r\n",
    "with open('input.txt', 'r') as fin:\r\n",
    "    str = fin.read()\r\n",
    "\r\n",
    "str_out = 0\r\n",
    "\r\n",
    "for i in range(len(str)):\r\n",
    "    if len(str) == 1:\r\n",
    "        str_out = str.upper()\r\n",
    "    if str[i].isupper() == True and str[i + 1].isupper() == True:\r\n",
    "        str_out = f\"{str[i].lower()}_{str[i + 1:].lower()}\"\r\n",
    "\r\n",
    "print(str_out)\r\n",
    "with open('output.txt', 'w') as fout:\r\n",
    "    print(str_out, file=fout)"
   ],
   "outputs": [
    {
     "output_type": "stream",
     "name": "stdout",
     "text": [
      "n_bsdsdvdsvsdvs\n"
     ]
    }
   ],
   "metadata": {}
  },
  {
   "cell_type": "code",
   "execution_count": 89,
   "source": [
    "with open('input.txt', 'r') as fin:\r\n",
    "    str = fin.read()\r\n",
    "str_out = 0\r\n",
    "if len(str) == 1:\r\n",
    "    str_out = str.upper()\r\n",
    "if len(str) > 1:\r\n",
    "    for i in range(len(str)):\r\n",
    "        if str[i].isupper() == True and str[i + 1].isupper() == True:\r\n",
    "            str_out = f\"{str[i].lower()}_{str[i + 1::].lower()}\"\r\n",
    "        \r\n",
    "with open('output.txt', 'w') as fout:\r\n",
    "    print(str_out, file=fout)"
   ],
   "outputs": [],
   "metadata": {}
  },
  {
   "cell_type": "code",
   "execution_count": 61,
   "source": [
    "# 3G\r\n",
    "\r\n",
    "a = int(input())\r\n",
    "lst_1 = list(map(int, input().split()))\r\n",
    "lst_2 = list(map(int, input().split()))\r\n",
    "lst_out = []\r\n",
    "\r\n",
    "for n in range(a):\r\n",
    "    lst_out.append(lst_1[n] + lst_2[n])\r\n",
    "    print(lst_out[n], end=\" \")\r\n"
   ],
   "outputs": [
    {
     "output_type": "stream",
     "name": "stdout",
     "text": [
      "5 7 9 "
     ]
    }
   ],
   "metadata": {}
  },
  {
   "cell_type": "code",
   "execution_count": 62,
   "source": [
    "lst_1 = list(map(int, input().split()))\r\n",
    "print(len(set(lst_1)))\r\n"
   ],
   "outputs": [
    {
     "output_type": "stream",
     "name": "stdout",
     "text": [
      "3\n"
     ]
    }
   ],
   "metadata": {}
  },
  {
   "cell_type": "code",
   "execution_count": 139,
   "source": [
    "# 3j\r\n",
    "import re\r\n",
    "with open('d.in', 'r') as fin:\r\n",
    "    str = fin.read()\r\n",
    "\r\n",
    "str = str.replace(',', ' ')\r\n",
    "str = str.replace('.', ' ')\r\n",
    "str = str.replace('!', ' ')\r\n",
    "str = str.replace('?', ' ')\r\n",
    "str = str.replace('\\n', ' ')\r\n",
    "\r\n",
    "with open('d.out', 'w') as fout:\r\n",
    "    print(len(re.sub('[^a-zA-Z ]', '', str).split()), file=fout)"
   ],
   "outputs": [],
   "metadata": {}
  },
  {
   "cell_type": "code",
   "execution_count": null,
   "source": [
    "#3F\r\n",
    "\r\n"
   ],
   "outputs": [],
   "metadata": {}
  },
  {
   "cell_type": "code",
   "execution_count": 160,
   "source": [
    "#3K \r\n",
    "\"\"\"\r\n",
    "Крош\r\n",
    "Бараш\r\n",
    "Человек-паук\r\n",
    "Иванов\r\n",
    "Петров\r\n",
    "Сидоров\r\n",
    "\"\"\"\r\n",
    "\r\n",
    "lst=[]\r\n",
    "lst1=[]\r\n",
    "lst2=[]\r\n",
    "for i in range(6):\r\n",
    "    a=input()\r\n",
    "    lst.append(a)\r\n",
    "for j in range(6):\r\n",
    "    if j%2==0:\r\n",
    "        lst1.append(lst[j])\r\n",
    "    else:\r\n",
    "        lst2.append(lst[j])\r\n",
    "str1=', '.join(lst1)\r\n",
    "str2=', '.join(lst2)\r\n",
    "print(str1)\r\n",
    "print(str2)\r\n"
   ],
   "outputs": [
    {
     "output_type": "stream",
     "name": "stdout",
     "text": [
      "Бараш, Иванов, Сидоров\n",
      "Крош, Человек-паук, Петров\n"
     ]
    }
   ],
   "metadata": {}
  },
  {
   "cell_type": "code",
   "execution_count": 170,
   "source": [
    "#4E\r\n",
    "\r\n",
    "a = input().split(' ')\r\n",
    "b = int(input())\r\n",
    "if b <= len(a):\r\n",
    "    print(*a[b - 1], sep=\"\")\r\n",
    "else:\r\n",
    "    print(*a[- 1], sep=\"\")\r\n"
   ],
   "outputs": [
    {
     "output_type": "stream",
     "name": "stdout",
     "text": [
      "established\n"
     ]
    }
   ],
   "metadata": {}
  },
  {
   "cell_type": "code",
   "execution_count": 174,
   "source": [
    "#4G\r\n",
    "import math as m\r\n",
    "lst_out = 0\r\n",
    "lst_1 = list(map(float, input().split()))\r\n",
    "for i in lst_1:\r\n",
    "    lst_out += i**2\r\n",
    "print(m.sqrt(lst_out))\r\n"
   ],
   "outputs": [
    {
     "output_type": "stream",
     "name": "stdout",
     "text": [
      "22.8882065701968\n"
     ]
    }
   ],
   "metadata": {}
  },
  {
   "cell_type": "code",
   "execution_count": 180,
   "source": [
    "#4L\r\n",
    "lst_1 = list(map(int, input().split()))\r\n",
    "for i in reversed(lst_1):\r\n",
    "    if i > 0:\r\n",
    "        print(i ** 2, end=\" \")\r\n"
   ],
   "outputs": [
    {
     "output_type": "stream",
     "name": "stdout",
     "text": [
      "36 16 4 "
     ]
    }
   ],
   "metadata": {}
  },
  {
   "cell_type": "code",
   "execution_count": 159,
   "source": [
    "#3L\r\n",
    "lst_1 = list(map(int, input().split()))\r\n",
    "lst_out = [0,0,0,0,0,0,0,0,0,0,0]\r\n",
    "\r\n",
    "print(len(lst_out))\r\n"
   ],
   "outputs": [
    {
     "output_type": "stream",
     "name": "stdout",
     "text": [
      "11\n"
     ]
    }
   ],
   "metadata": {}
  },
  {
   "cell_type": "code",
   "execution_count": null,
   "source": [
    "# 3M\r\n",
    "a = input()\r\n",
    "b = float(input())\r\n",
    "print(f\"\"\"SELECT\r\n",
    "  id,\r\n",
    "  SUM(product_price) AS revenue_by_user\r\n",
    "FROM\r\n",
    "  dataset.data_table\r\n",
    "WHERE\r\n",
    "  ab_test = '{a}'\r\n",
    "GROUP BY\r\n",
    "  id\r\n",
    "HAVING\r\n",
    "  revenue_by_user < {b:.2f}\"\"\")"
   ],
   "outputs": [],
   "metadata": {}
  },
  {
   "cell_type": "code",
   "execution_count": 15,
   "source": [
    "# 4A\r\n",
    "sum = 0\r\n",
    "for i in range(int(input())):\r\n",
    "    if sum < 1000:\r\n",
    "        a = int(input())\r\n",
    "        sum += a\r\n",
    "\r\n",
    "print(sum)\r\n"
   ],
   "outputs": [
    {
     "output_type": "stream",
     "name": "stdout",
     "text": [
      "1000\n"
     ]
    }
   ],
   "metadata": {}
  },
  {
   "cell_type": "code",
   "execution_count": 51,
   "source": [
    "# 4B\r\n",
    "\r\n",
    "lst_1 = list(map(int, input().split()))\r\n",
    "for i in lst_1:\r\n",
    "    if i == max(lst_1):\r\n",
    "        print(lst_1.index(i))\r\n",
    "        continue\r\n",
    "\r\n",
    "#lst_1.insert(lst_1.index(max(lst_1)), min(lst_1))\r\n",
    "#lst_1.remove(max(lst_1))\r\n"
   ],
   "outputs": [
    {
     "output_type": "stream",
     "name": "stdout",
     "text": [
      "0\n",
      "0\n"
     ]
    }
   ],
   "metadata": {}
  },
  {
   "cell_type": "code",
   "execution_count": 19,
   "source": [
    "# 4C\r\n",
    "\r\n",
    "a = input().lower()\r\n",
    "a = a.replace(\" \",\"\")\r\n",
    "if a == a[::-1]:\r\n",
    "    print(True)\r\n",
    "else:\r\n",
    "    print(False)"
   ],
   "outputs": [
    {
     "output_type": "stream",
     "name": "stdout",
     "text": [
      "False\n"
     ]
    }
   ],
   "metadata": {}
  },
  {
   "cell_type": "code",
   "execution_count": 53,
   "source": [
    "#4f\r\n",
    "\r\n",
    "lst_1 = list(map(int, input().split()))\r\n",
    "sum = 0\r\n",
    "\r\n",
    "for i in lst_1:\r\n",
    "    sum += abs(i)\r\n",
    "\r\n",
    "print(sum)"
   ],
   "outputs": [
    {
     "output_type": "stream",
     "name": "stdout",
     "text": [
      "33\n"
     ]
    }
   ],
   "metadata": {}
  },
  {
   "cell_type": "code",
   "execution_count": 55,
   "source": [
    "# 4O\r\n",
    "\r\n",
    "def Add(x,y):\r\n",
    "    return x + y\r\n",
    "\r\n",
    "x, y = 2, 3\r\n",
    "print(Add(x, y))\r\n",
    "print(Add(10, 11))"
   ],
   "outputs": [
    {
     "output_type": "stream",
     "name": "stdout",
     "text": [
      "5\n",
      "21\n"
     ]
    }
   ],
   "metadata": {}
  },
  {
   "cell_type": "code",
   "execution_count": 182,
   "source": [
    "def PrintMatrix(mat):\r\n",
    "    for i in mat:\r\n",
    "        print(*i)\r\n",
    "\r\n",
    "mat = [[1, 2, 3], [4, 5, 6], [7, 8, 9]]\r\n",
    "PrintMatrix(mat)"
   ],
   "outputs": [
    {
     "output_type": "stream",
     "name": "stdout",
     "text": [
      "1 2 3\n",
      "4 5 6\n",
      "7 8 9\n"
     ]
    }
   ],
   "metadata": {}
  },
  {
   "cell_type": "code",
   "execution_count": 188,
   "source": [
    "#4Q\r\n",
    "def Map(func, l):\r\n",
    "    inner_list = []\r\n",
    "    for i in l:\r\n",
    "        inner_list.append(func(int(i)))\r\n",
    "    return inner_list\r\n",
    "\r\n",
    "print(sum(Map(lambda x: x**2, [2, 3])))\r\n"
   ],
   "outputs": [
    {
     "output_type": "error",
     "ename": "TypeError",
     "evalue": "'int' object is not callable",
     "traceback": [
      "\u001b[1;31m---------------------------------------------------------------------------\u001b[0m",
      "\u001b[1;31mTypeError\u001b[0m                                 Traceback (most recent call last)",
      "\u001b[1;32mC:\\Users\\PERETO~1.YUS\\AppData\\Local\\Temp/ipykernel_760/3672018822.py\u001b[0m in \u001b[0;36m<module>\u001b[1;34m\u001b[0m\n\u001b[0;32m      6\u001b[0m     \u001b[1;32mreturn\u001b[0m \u001b[0minner_list\u001b[0m\u001b[1;33m\u001b[0m\u001b[1;33m\u001b[0m\u001b[0m\n\u001b[0;32m      7\u001b[0m \u001b[1;33m\u001b[0m\u001b[0m\n\u001b[1;32m----> 8\u001b[1;33m \u001b[0mprint\u001b[0m\u001b[1;33m(\u001b[0m\u001b[0msum\u001b[0m\u001b[1;33m(\u001b[0m\u001b[0mMap\u001b[0m\u001b[1;33m(\u001b[0m\u001b[1;32mlambda\u001b[0m \u001b[0mx\u001b[0m\u001b[1;33m:\u001b[0m \u001b[0mx\u001b[0m\u001b[1;33m**\u001b[0m\u001b[1;36m2\u001b[0m\u001b[1;33m,\u001b[0m \u001b[1;33m[\u001b[0m\u001b[1;36m2\u001b[0m\u001b[1;33m,\u001b[0m \u001b[1;36m3\u001b[0m\u001b[1;33m]\u001b[0m\u001b[1;33m)\u001b[0m\u001b[1;33m)\u001b[0m\u001b[1;33m)\u001b[0m\u001b[1;33m\u001b[0m\u001b[1;33m\u001b[0m\u001b[0m\n\u001b[0m",
      "\u001b[1;31mTypeError\u001b[0m: 'int' object is not callable"
     ]
    }
   ],
   "metadata": {}
  },
  {
   "cell_type": "code",
   "execution_count": 194,
   "source": [
    "x = 2\r\n",
    "print(x**2)"
   ],
   "outputs": [
    {
     "output_type": "stream",
     "name": "stdout",
     "text": [
      "4\n"
     ]
    }
   ],
   "metadata": {}
  },
  {
   "cell_type": "code",
   "execution_count": 217,
   "source": [
    "#4S\r\n",
    "\r\n",
    "def Join(a, b):\r\n",
    "    if b==[]:\r\n",
    "        return ''\r\n",
    "    output=b[0]\r\n",
    "    for c in b[1:]:\r\n",
    "        output += a + c\r\n",
    "    return output\r\n",
    "        \r\n",
    "\r\n",
    "ary = ['aa', 'bb', 'cc']\r\n",
    "print(Join(ary, '!'))\r\n",
    "\r\n",
    "#ary = ['aa', 'bb', 'cc']\r\n",
    "#print(Join(ary))"
   ],
   "outputs": [
    {
     "output_type": "stream",
     "name": "stdout",
     "text": [
      "!\n"
     ]
    }
   ],
   "metadata": {}
  }
 ],
 "metadata": {
  "orig_nbformat": 4,
  "language_info": {
   "name": "python",
   "version": "3.9.6",
   "mimetype": "text/x-python",
   "codemirror_mode": {
    "name": "ipython",
    "version": 3
   },
   "pygments_lexer": "ipython3",
   "nbconvert_exporter": "python",
   "file_extension": ".py"
  },
  "kernelspec": {
   "name": "python3",
   "display_name": "Python 3.9.6 64-bit"
  },
  "interpreter": {
   "hash": "8cc3f21c551cfee97d7e38df2dbc96e196615717cec21201fc9222b2cd92e292"
  }
 },
 "nbformat": 4,
 "nbformat_minor": 2
}