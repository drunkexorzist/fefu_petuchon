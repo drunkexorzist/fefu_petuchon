{
 "cells": [
  {
   "cell_type": "code",
   "execution_count": null,
   "source": [
    "# 3A\r\n",
    "a = input()\r\n",
    "while a != \"Stop!\":\r\n",
    "    print(\"Каша\")\r\n",
    "    a = input()\r\n",
    "print(\"Ок\")"
   ],
   "outputs": [],
   "metadata": {}
  },
  {
   "cell_type": "code",
   "execution_count": null,
   "source": [
    "# 3B\r\n",
    "b = 0\r\n",
    "for i in range(int(input())):\r\n",
    "    a = input().lower()\r\n",
    "    if a == \"boletus edulis\":\r\n",
    "        b += 1\r\n",
    "print(b)"
   ],
   "outputs": [],
   "metadata": {}
  },
  {
   "cell_type": "code",
   "execution_count": null,
   "source": [
    "# 3C\r\n",
    "a = int(input())\r\n",
    "b = 0\r\n",
    "for i in reversed(range(1,a + 1)):\r\n",
    "    print(str(i) + \"!\" * b)\r\n",
    "    i -= 1\r\n",
    "    b += 1\r\n",
    "print(\"Start\" + \"!\" * a)"
   ],
   "outputs": [],
   "metadata": {}
  },
  {
   "cell_type": "code",
   "execution_count": null,
   "source": [
    "# 3D\r\n",
    "a = int(input())\r\n",
    "for i in range(1, a + 1):\r\n",
    "    for j in range(1, a + 1):\r\n",
    "        print(f\"{i} * {j} = {i * j}\")\r\n",
    "        "
   ],
   "outputs": [],
   "metadata": {}
  },
  {
   "cell_type": "code",
   "execution_count": 30,
   "source": [
    "# 3E\r\n",
    "\"\"\"\r\n",
    "1 буква маленька => заменить на 1 большую\r\n",
    "ATest => a_test\r\n",
    "\"\"\"\r\n",
    "with open('input.txt', 'r') as fin:\r\n",
    "    str = fin.read()\r\n",
    "\r\n",
    "for i in range(len(str)):\r\n",
    "    if len(str) == 1 and str.isupper() == False:\r\n",
    "        str_out = str.upper()\r\n",
    "    if len(str) > 1 and len(str.isupper()) > 1:\r\n",
    "        if str[i].isupper() == True and str[i + 1].isupper() == True:\r\n",
    "            str_out = ...\r\n",
    "\r\n",
    "with open('output.txt', 'w') as fout:\r\n",
    "    print(str_out, file=fout)"
   ],
   "outputs": [],
   "metadata": {}
  },
  {
   "cell_type": "code",
   "execution_count": 61,
   "source": [
    "# 3G\r\n",
    "\r\n",
    "a = int(input())\r\n",
    "lst_1 = list(map(int, input().split()))\r\n",
    "lst_2 = list(map(int, input().split()))\r\n",
    "lst_out = []\r\n",
    "\r\n",
    "for n in range(a):\r\n",
    "    lst_out.append(lst_1[n] + lst_2[n])\r\n",
    "    print(lst_out[n], end=\" \")\r\n"
   ],
   "outputs": [
    {
     "output_type": "stream",
     "name": "stdout",
     "text": [
      "5 7 9 "
     ]
    }
   ],
   "metadata": {}
  },
  {
   "cell_type": "code",
   "execution_count": 62,
   "source": [
    "lst_1 = list(map(int, input().split()))\r\n",
    "print(len(set(lst_1)))\r\n"
   ],
   "outputs": [
    {
     "output_type": "stream",
     "name": "stdout",
     "text": [
      "3\n"
     ]
    }
   ],
   "metadata": {}
  },
  {
   "cell_type": "code",
   "execution_count": 76,
   "source": [
    "a = input().lower()\r\n",
    "list = [\",\",\".\",\"!\",\"?\"]\r\n",
    "if a.count(\",\") > 0:\r\n",
    "    "
   ],
   "outputs": [
    {
     "output_type": "stream",
     "name": "stdout",
     "text": [
      "as god is my witness i will never be hungry again\n",
      "11\n"
     ]
    }
   ],
   "metadata": {}
  },
  {
   "cell_type": "code",
   "execution_count": null,
   "source": [
    "# 3j\r\n",
    "with open('d.in', 'r') as fin:\r\n",
    "    str = fin.read()\r\n",
    "\r\n",
    "\r\n",
    "\r\n",
    "with open('d.out', 'w') as fout:\r\n",
    "    print(str_out, file=fout)"
   ],
   "outputs": [],
   "metadata": {}
  },
  {
   "cell_type": "code",
   "execution_count": null,
   "source": [
    "# 3M\r\n",
    "a = input()\r\n",
    "b = float(input())\r\n",
    "print(f\"\"\"SELECT\r\n",
    "  id,\r\n",
    "  SUM(product_price) AS revenue_by_user\r\n",
    "FROM\r\n",
    "  dataset.data_table\r\n",
    "WHERE\r\n",
    "  ab_test = '{a}'\r\n",
    "GROUP BY\r\n",
    "  id\r\n",
    "HAVING\r\n",
    "  revenue_by_user < {b:.2f}\"\"\")"
   ],
   "outputs": [],
   "metadata": {}
  },
  {
   "cell_type": "code",
   "execution_count": 15,
   "source": [
    "# 4A\r\n",
    "sum = 0\r\n",
    "for i in range(int(input())):\r\n",
    "    if sum < 1000:\r\n",
    "        a = int(input())\r\n",
    "        sum += a\r\n",
    "\r\n",
    "print(sum)\r\n"
   ],
   "outputs": [
    {
     "output_type": "stream",
     "name": "stdout",
     "text": [
      "1000\n"
     ]
    }
   ],
   "metadata": {}
  },
  {
   "cell_type": "code",
   "execution_count": null,
   "source": [
    "# 4B\r\n"
   ],
   "outputs": [],
   "metadata": {}
  },
  {
   "cell_type": "code",
   "execution_count": 19,
   "source": [
    "# 4C\r\n",
    "\r\n",
    "a = input().lower()\r\n",
    "a = a.replace(\" \",\"\")\r\n",
    "if a == a[::-1]:\r\n",
    "    print(True)\r\n",
    "else:\r\n",
    "    print(False)"
   ],
   "outputs": [
    {
     "output_type": "stream",
     "name": "stdout",
     "text": [
      "False\n"
     ]
    }
   ],
   "metadata": {}
  }
 ],
 "metadata": {
  "orig_nbformat": 4,
  "language_info": {
   "name": "python",
   "version": "3.9.6",
   "mimetype": "text/x-python",
   "codemirror_mode": {
    "name": "ipython",
    "version": 3
   },
   "pygments_lexer": "ipython3",
   "nbconvert_exporter": "python",
   "file_extension": ".py"
  },
  "kernelspec": {
   "name": "python3",
   "display_name": "Python 3.9.6 64-bit"
  },
  "interpreter": {
   "hash": "8cc3f21c551cfee97d7e38df2dbc96e196615717cec21201fc9222b2cd92e292"
  }
 },
 "nbformat": 4,
 "nbformat_minor": 2
}