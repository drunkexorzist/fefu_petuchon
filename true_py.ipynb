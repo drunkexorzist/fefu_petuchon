{
 "cells": [
  {
   "cell_type": "code",
   "execution_count": null,
   "source": [
    "# 3A\r\n",
    "a = input()\r\n",
    "while a != \"Stop!\":\r\n",
    "    print(\"Каша\")\r\n",
    "    a = input()\r\n",
    "print(\"Ок\")"
   ],
   "outputs": [],
   "metadata": {}
  },
  {
   "cell_type": "code",
   "execution_count": null,
   "source": [
    "# 3B\r\n",
    "b = 0\r\n",
    "for i in range(int(input())):\r\n",
    "    a = input().lower()\r\n",
    "    if a == \"boletus edulis\":\r\n",
    "        b += 1\r\n",
    "print(b)"
   ],
   "outputs": [],
   "metadata": {}
  },
  {
   "cell_type": "code",
   "execution_count": null,
   "source": [
    "# 3C\r\n",
    "a = int(input())\r\n",
    "b = 0\r\n",
    "for i in reversed(range(1,a + 1)):\r\n",
    "    print(str(i) + \"!\" * b)\r\n",
    "    i -= 1\r\n",
    "    b += 1\r\n",
    "print(\"Start\" + \"!\" * a)"
   ],
   "outputs": [],
   "metadata": {}
  }
 ],
 "metadata": {
  "orig_nbformat": 4,
  "language_info": {
   "name": "python",
   "version": "3.9.7",
   "mimetype": "text/x-python",
   "codemirror_mode": {
    "name": "ipython",
    "version": 3
   },
   "pygments_lexer": "ipython3",
   "nbconvert_exporter": "python",
   "file_extension": ".py"
  },
  "kernelspec": {
   "name": "python3",
   "display_name": "Python 3.9.7 64-bit"
  },
  "interpreter": {
   "hash": "b2ac0b5953873abc3a2f97b57b5c4f57fb2ca1b85d954b0cc67e9483da317a49"
  }
 },
 "nbformat": 4,
 "nbformat_minor": 2
}