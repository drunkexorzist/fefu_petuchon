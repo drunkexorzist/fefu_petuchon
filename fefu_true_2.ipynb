{
 "cells": [
  {
   "cell_type": "code",
   "execution_count": 37,
   "source": [
    "# 3E\r\n",
    "\r\n",
    "with open('input.txt', 'r') as fin:\r\n",
    "    str = fin.read()\r\n",
    "\r\n",
    "if len(str) == 1:\r\n",
    "    if str.isupper() == True:\r\n",
    "        str_out = str.lower()\r\n",
    "    if str.islower() == True:\r\n",
    "        str_out = str.upper()\r\n",
    "    \r\n",
    "for i in range(len(str)):\r\n",
    "    if str[i].isupper() == True and str[i + 1].isupper() == True and i < len(str):\r\n",
    "        str_out = str[ 0:i + 1 ].lower() + \"_\" + str[i + 1:].lower()\r\n",
    "    if str[i] == \"_\":\r\n",
    "        if str[i + 1].islower() == True and str[i - 1].islower() == True and i < len(str):\r\n",
    "            str_out = str[0:i].upper() + str[i + 1].upper() + str[i + 2:].lower()\r\n",
    "            str_out = str_out.replace(\"_\",\"\")\r\n",
    "\r\n",
    "with open('output.txt', 'w') as fout:\r\n",
    "    print(str_out, file=fout)"
   ],
   "outputs": [],
   "metadata": {}
  },
  {
   "cell_type": "code",
   "execution_count": 62,
   "source": [
    "#4H\r\n",
    "\r\n",
    "a = int(input())\r\n",
    "lst = []\r\n",
    "b = 0\r\n",
    "\r\n",
    "for i in range(a):\r\n",
    "    lst.append(list(map(int, input().split())))\r\n",
    "\r\n",
    "for j in range(len(lst)):\r\n",
    "    for h in range(a):\r\n",
    "        print(lst[b][j], end=\" \")\r\n",
    "        b += 1\r\n",
    "    print()\r\n",
    "    b = 0\r\n",
    "    \r\n",
    "    "
   ],
   "outputs": [
    {
     "output_type": "stream",
     "name": "stdout",
     "text": [
      "1 5 9 13 \n",
      "2 6 10 14 \n",
      "3 7 11 15 \n",
      "4 8 12 16 \n"
     ]
    }
   ],
   "metadata": {}
  },
  {
   "cell_type": "code",
   "execution_count": 166,
   "source": [
    "#4J 1 0 2 5 0 0 0 4\r\n",
    "#   0 2 0 4\r\n",
    "\r\n",
    "str = list()\r\n",
    "i = 1\r\n",
    "\r\n",
    "if len(str) > 1:\r\n",
    "    while i < len(str):\r\n",
    "        if str[i] == 0:\r\n",
    "            del str[i - 1]\r\n",
    "            continue\r\n",
    "        i += 1\r\n",
    "\r\n",
    "    if str.count(0) == len(str):\r\n",
    "        str.clear()\r\n",
    "        str.append(0)\r\n",
    "    print(*str)\r\n",
    "\r\n",
    "else:\r\n",
    "    if str[0] != 0:\r\n",
    "        print(*str)\r\n",
    "    else:\r\n",
    "        print(0)\r\n"
   ],
   "outputs": [
    {
     "output_type": "stream",
     "name": "stdout",
     "text": [
      "0 2 0 4\n"
     ]
    }
   ],
   "metadata": {}
  },
  {
   "cell_type": "code",
   "execution_count": 194,
   "source": [
    "#4L\r\n",
    "n = int(input())\r\n",
    "arr = [elem for elem in input().split()]\r\n",
    "a, b = list(map(int, input().split()))\r\n",
    "\r\n",
    "for i in range(a):\r\n",
    "    print(*arr[i*b:(i+1)*b])"
   ],
   "outputs": [
    {
     "output_type": "stream",
     "name": "stdout",
     "text": [
      "1 2\n",
      "3 4\n",
      "5 6\n"
     ]
    }
   ],
   "metadata": {}
  }
 ],
 "metadata": {
  "orig_nbformat": 4,
  "language_info": {
   "name": "python",
   "version": "3.9.6",
   "mimetype": "text/x-python",
   "codemirror_mode": {
    "name": "ipython",
    "version": 3
   },
   "pygments_lexer": "ipython3",
   "nbconvert_exporter": "python",
   "file_extension": ".py"
  },
  "kernelspec": {
   "name": "python3",
   "display_name": "Python 3.9.6 64-bit"
  },
  "interpreter": {
   "hash": "8cc3f21c551cfee97d7e38df2dbc96e196615717cec21201fc9222b2cd92e292"
  }
 },
 "nbformat": 4,
 "nbformat_minor": 2
}