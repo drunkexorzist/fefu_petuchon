{
 "cells": [
  {
   "cell_type": "code",
   "execution_count": 37,
   "metadata": {},
   "outputs": [],
   "source": [
    "# 3E\n",
    "\n",
    "with open('input.txt', 'r') as fin:\n",
    "    str = fin.read()\n",
    "\n",
    "if len(str) == 1:\n",
    "    if str.isupper() == True:\n",
    "        str_out = str.lower()\n",
    "    if str.islower() == True:\n",
    "        str_out = str.upper()\n",
    "    \n",
    "for i in range(len(str)):\n",
    "    if str[i].isupper() == True and str[i + 1].isupper() == True and i < len(str):\n",
    "        str_out = str[ 0:i + 1 ].lower() + \"_\" + str[i + 1:].lower()\n",
    "    if str[i] == \"_\":\n",
    "        if str[i + 1].islower() == True and str[i - 1].islower() == True and i < len(str):\n",
    "            str_out = str[0:i].upper() + str[i + 1].upper() + str[i + 2:].lower()\n",
    "            str_out = str_out.replace(\"_\",\"\")\n",
    "\n",
    "with open('output.txt', 'w') as fout:\n",
    "    print(str_out, file=fout)"
   ]
  },
  {
   "cell_type": "code",
   "execution_count": 62,
   "metadata": {},
   "outputs": [
    {
     "name": "stdout",
     "output_type": "stream",
     "text": [
      "1 5 9 13 \n",
      "2 6 10 14 \n",
      "3 7 11 15 \n",
      "4 8 12 16 \n"
     ]
    }
   ],
   "source": [
    "#4H\n",
    "\n",
    "a = int(input())\n",
    "lst = []\n",
    "b = 0\n",
    "\n",
    "for i in range(a):\n",
    "    lst.append(list(map(int, input().split())))\n",
    "\n",
    "for j in range(len(lst)):\n",
    "    for h in range(a):\n",
    "        print(lst[b][j], end=\" \")\n",
    "        b += 1\n",
    "    print()\n",
    "    b = 0\n",
    "    \n",
    "    "
   ]
  },
  {
   "cell_type": "code",
   "execution_count": 166,
   "metadata": {},
   "outputs": [
    {
     "name": "stdout",
     "output_type": "stream",
     "text": [
      "0 2 0 4\n"
     ]
    }
   ],
   "source": [
    "#4J 1 0 2 5 0 0 0 4\n",
    "#   0 2 0 4\n",
    "\n",
    "str = list()\n",
    "i = 1\n",
    "\n",
    "if len(str) > 1:\n",
    "    while i < len(str):\n",
    "        if str[i] == 0:\n",
    "            del str[i - 1]\n",
    "            continue\n",
    "        i += 1\n",
    "\n",
    "    if str.count(0) == len(str):\n",
    "        str.clear()\n",
    "        str.append(0)\n",
    "    print(*str)\n",
    "\n",
    "else:\n",
    "    if str[0] != 0:\n",
    "        print(*str)\n",
    "    else:\n",
    "        print(0)\n"
   ]
  },
  {
   "cell_type": "code",
   "execution_count": 194,
   "metadata": {},
   "outputs": [
    {
     "name": "stdout",
     "output_type": "stream",
     "text": [
      "1 2\n",
      "3 4\n",
      "5 6\n"
     ]
    }
   ],
   "source": [
    "#4I\n",
    "n = int(input())\n",
    "arr = [elem for elem in input().split()]\n",
    "a, b = list(map(int, input().split()))\n",
    "\n",
    "for i in range(a):\n",
    "    print(*arr[i*b:(i+1)*b])"
   ]
  },
  {
   "cell_type": "code",
   "execution_count": 197,
   "metadata": {},
   "outputs": [
    {
     "name": "stdout",
     "output_type": "stream",
     "text": [
      "zab ddd azx\n"
     ]
    }
   ],
   "source": [
    "#4K\n",
    "lst_1 = [a for a in input().split()]\n",
    "lst_2 = []\n",
    "for i in lst_1:\n",
    "    lst_2.append(i[1])\n",
    "lst_2.sort()\n",
    "list1 = [j for i in lst_2 for j in lst_1 if i == j[1]]\n",
    "lst_out = \" \".join(list1)\n",
    "print(lst_out)"
   ]
  },
  {
   "cell_type": "code",
   "execution_count": 202,
   "metadata": {},
   "outputs": [
    {
     "name": "stdout",
     "output_type": "stream",
     "text": [
      "[1, 2, 3, 4]\n",
      "13\n"
     ]
    }
   ],
   "source": [
    "#4Q\n",
    "\n",
    "def Map(func, l):\n",
    "    lst_out = []\n",
    "    for i in range(len(l)):\n",
    "        lst_out.append(func(l[i]))\n",
    "    return lst_out\n",
    "\n",
    "ary = [-1, 2, -3, 4]\n",
    "print(Map(abs, ary))\n",
    "\n",
    "print(sum(Map(lambda x: x**2, [2, 3])))"
   ]
  },
  {
   "cell_type": "code",
   "execution_count": 276,
   "metadata": {},
   "outputs": [
    {
     "name": "stdout",
     "output_type": "stream",
     "text": [
      "aa!bb!cc\n",
      "aa bb cc\n",
      "1+_2+_3\n"
     ]
    }
   ],
   "source": [
    "#4S\n",
    "\n",
    "def Join(array, separator=\" \"):\n",
    "    a = \"\"\n",
    "    for i in range(len(array)):\n",
    "        a += (array[i]).__str__() + separator\n",
    "    a = a[:-(len(separator))]\n",
    "    return a\n",
    "\n",
    "    \n",
    "ary = ['aa', 'bb', 'cc']\n",
    "print(Join(ary, '!'))\n",
    "\n",
    "ary = ['aa', 'bb', 'cc']\n",
    "print(Join(ary))\n",
    "\n",
    "ary = [1, 2, 3]\n",
    "print(Join(ary,\"+_\"))"
   ]
  },
  {
   "cell_type": "code",
   "execution_count": 287,
   "metadata": {},
   "outputs": [
    {
     "name": "stdout",
     "output_type": "stream",
     "text": [
      "1 1 1\n"
     ]
    }
   ],
   "source": [
    "#4N\n",
    "\"\"\"\n",
    "    Код пиздец гавно, мне за него очень стыдно. \n",
    "    Но он работет и мне лень его менять\n",
    "\"\"\"\n",
    "a, b, c = list(map(int, input().split()))\n",
    "str_out = []\n",
    "### A B\n",
    "if a < b:\n",
    "    j = a\n",
    "    for i in range(a):\n",
    "        if a % j == 0 and b % j == 0:\n",
    "            str_out.append(j)\n",
    "            break\n",
    "        else:\n",
    "            j -= 1\n",
    "elif a > b:\n",
    "    j = b\n",
    "    for i in range(b):\n",
    "        if a % j == 0 and b % j == 0:\n",
    "            str_out.append(j)\n",
    "            break\n",
    "        else:\n",
    "            j -= 1\n",
    "else:\n",
    "    str_out.append(a)\n",
    "### A C\n",
    "if a < c:\n",
    "    j = a\n",
    "    for i in range(a):\n",
    "        if a % j == 0 and c % j == 0:\n",
    "            str_out.append(j)\n",
    "            break\n",
    "        else:\n",
    "            j -= 1\n",
    "elif a > c:\n",
    "    j = c\n",
    "    for i in range(c):\n",
    "        if a % j == 0 and c % j == 0:\n",
    "            str_out.append(j)\n",
    "            break\n",
    "        else:\n",
    "            j -= 1\n",
    "else:\n",
    "    str_out.append(c)\n",
    "### B C\n",
    "if c < b:\n",
    "    j = c\n",
    "    for i in range(c):\n",
    "        if c % j == 0 and b % j == 0:\n",
    "            str_out.append(j)\n",
    "            break\n",
    "        else:\n",
    "            j -= 1\n",
    "elif c > b:\n",
    "    j = b\n",
    "    for i in range(b):\n",
    "        if c % j == 0 and b % j == 0:\n",
    "            str_out.append(j)\n",
    "            break\n",
    "        else:\n",
    "            j -= 1\n",
    "else:\n",
    "    str_out.append(b)\n",
    "\n",
    "print(*str_out)"
   ]
  },
  {
   "cell_type": "code",
   "execution_count": 24,
   "metadata": {},
   "outputs": [
    {
     "name": "stdout",
     "output_type": "stream",
     "text": [
      "zab ddd azx\n"
     ]
    }
   ],
   "source": [
    "#4K\n",
    "\n",
    "def takeSecond(elem):\n",
    "    return elem[1]\n",
    "\n",
    "lst = list(map(list, input().split()))\n",
    "sort_list = []\n",
    "\n",
    "for i in lst:\n",
    "    sort_list.append(\"\".join(i))\n",
    "sort_list.sort(key=takeSecond)\n",
    "\n",
    "print(*sort_list)\n"
   ]
  },
  {
   "cell_type": "code",
   "execution_count": null,
   "metadata": {},
   "outputs": [],
   "source": [
    "#3K\n",
    "\n",
    "lst = []\n",
    "\n",
    "for i in range(6):\n",
    "    lst.append(input())\n",
    "\n",
    "print(lst)"
   ]
  },
  {
   "cell_type": "code",
   "execution_count": 1,
   "metadata": {},
   "outputs": [],
   "source": [
    "class Time:\n",
    "    # Конструктор, принимающий четыре целых числа: часы, минуты, секунды и миллисекунды.\n",
    "    # В случае, если передан отрицательный параметр, вызвать исключение ValueError.\n",
    "    # После конструирования, значения параметров времени должны быть корректными:\n",
    "    # 0 <= GetHour() <= 23\n",
    "    # 0 <= GetMinute() <= 59\n",
    "    # 0 <= GetSecond() <= 59\n",
    "    # 0 <= GetMillisecond() <= 999\n",
    "    def __init__(self, hours=0, minutes=0, seconds=0, milliseconds=0):\n",
    "        self.hours = hours\n",
    "        self.minutes = minutes\n",
    "        self.seconds = seconds\n",
    "        self.milliseconds = milliseconds\n",
    "    def GetHour(self, hours):\n",
    "        if 0 <= self.hours <= 23:\n",
    "            return self.hours\n",
    "    def GetMinute(self):\n",
    "        if 0 <= self.minutes <= 59:\n",
    "            return self.minutes\n",
    "    def GetSecond(self):\n",
    "        if 0 <= self.seconds <= 59:\n",
    "            return self.seconds\n",
    "    def GetMillisecond(self):\n",
    "        if 0 <= self.milliseconds <= 999:\n",
    "            return self.milliseconds\n",
    "    # Прибавляет указанное количество времени к текущему объекту.\n",
    "    # После выполнения этой операции параметры времени должны остаться корректными.\n",
    "    def Add(self, time):\n",
    "        pass\n",
    "    # Оператор str должен представлять время в формате\n",
    "    # HH:MM:SS.milliseconds\n",
    "    def __str__(self, hours, minutes, seconds, milliseconds):\n",
    "        return str(self.hours) + \":\" + str(self.minutes) + \":\" + str(self.seconds) + \".\" + str(self.milliseconds)"
   ]
  }
 ],
 "metadata": {
  "interpreter": {
   "hash": "8cc3f21c551cfee97d7e38df2dbc96e196615717cec21201fc9222b2cd92e292"
  },
  "kernelspec": {
   "display_name": "Python 3.9.6 64-bit",
   "name": "python3"
  },
  "language_info": {
   "codemirror_mode": {
    "name": "ipython",
    "version": 3
   },
   "file_extension": ".py",
   "mimetype": "text/x-python",
   "name": "python",
   "nbconvert_exporter": "python",
   "pygments_lexer": "ipython3",
   "version": "3.9.6"
  },
  "orig_nbformat": 4
 },
 "nbformat": 4,
 "nbformat_minor": 2
}
