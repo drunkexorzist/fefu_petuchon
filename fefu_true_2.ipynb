{
 "cells": [
  {
   "cell_type": "code",
   "execution_count": 37,
   "source": [
    "# 3E\r\n",
    "\r\n",
    "with open('input.txt', 'r') as fin:\r\n",
    "    str = fin.read()\r\n",
    "\r\n",
    "if len(str) == 1:\r\n",
    "    if str.isupper() == True:\r\n",
    "        str_out = str.lower()\r\n",
    "    if str.islower() == True:\r\n",
    "        str_out = str.upper()\r\n",
    "    \r\n",
    "for i in range(len(str)):\r\n",
    "    if str[i].isupper() == True and str[i + 1].isupper() == True and i < len(str):\r\n",
    "        str_out = str[ 0:i + 1 ].lower() + \"_\" + str[i + 1:].lower()\r\n",
    "    if str[i] == \"_\":\r\n",
    "        if str[i + 1].islower() == True and str[i - 1].islower() == True and i < len(str):\r\n",
    "            str_out = str[0:i].upper() + str[i + 1].upper() + str[i + 2:].lower()\r\n",
    "            str_out = str_out.replace(\"_\",\"\")\r\n",
    "\r\n",
    "with open('output.txt', 'w') as fout:\r\n",
    "    print(str_out, file=fout)"
   ],
   "outputs": [],
   "metadata": {}
  },
  {
   "cell_type": "code",
   "execution_count": 62,
   "source": [
    "#4H\r\n",
    "\r\n",
    "a = int(input())\r\n",
    "lst = []\r\n",
    "b = 0\r\n",
    "\r\n",
    "for i in range(a):\r\n",
    "    lst.append(list(map(int, input().split())))\r\n",
    "\r\n",
    "for j in range(len(lst)):\r\n",
    "    for h in range(a):\r\n",
    "        print(lst[b][j], end=\" \")\r\n",
    "        b += 1\r\n",
    "    print()\r\n",
    "    b = 0\r\n",
    "    \r\n",
    "    "
   ],
   "outputs": [
    {
     "output_type": "stream",
     "name": "stdout",
     "text": [
      "1 5 9 13 \n",
      "2 6 10 14 \n",
      "3 7 11 15 \n",
      "4 8 12 16 \n"
     ]
    }
   ],
   "metadata": {}
  },
  {
   "cell_type": "code",
   "execution_count": 166,
   "source": [
    "#4J 1 0 2 5 0 0 0 4\r\n",
    "#   0 2 0 4\r\n",
    "\r\n",
    "str = list()\r\n",
    "i = 1\r\n",
    "\r\n",
    "if len(str) > 1:\r\n",
    "    while i < len(str):\r\n",
    "        if str[i] == 0:\r\n",
    "            del str[i - 1]\r\n",
    "            continue\r\n",
    "        i += 1\r\n",
    "\r\n",
    "    if str.count(0) == len(str):\r\n",
    "        str.clear()\r\n",
    "        str.append(0)\r\n",
    "    print(*str)\r\n",
    "\r\n",
    "else:\r\n",
    "    if str[0] != 0:\r\n",
    "        print(*str)\r\n",
    "    else:\r\n",
    "        print(0)\r\n"
   ],
   "outputs": [
    {
     "output_type": "stream",
     "name": "stdout",
     "text": [
      "0 2 0 4\n"
     ]
    }
   ],
   "metadata": {}
  },
  {
   "cell_type": "code",
   "execution_count": 194,
   "source": [
    "#4I\r\n",
    "n = int(input())\r\n",
    "arr = [elem for elem in input().split()]\r\n",
    "a, b = list(map(int, input().split()))\r\n",
    "\r\n",
    "for i in range(a):\r\n",
    "    print(*arr[i*b:(i+1)*b])"
   ],
   "outputs": [
    {
     "output_type": "stream",
     "name": "stdout",
     "text": [
      "1 2\n",
      "3 4\n",
      "5 6\n"
     ]
    }
   ],
   "metadata": {}
  },
  {
   "cell_type": "code",
   "execution_count": 197,
   "source": [
    "#4K\r\n",
    "lst_1 = [a for a in input().split()]\r\n",
    "lst_2 = []\r\n",
    "for i in lst_1:\r\n",
    "    lst_2.append(i[1])\r\n",
    "lst_2.sort()\r\n",
    "list1 = [j for i in lst_2 for j in lst_1 if i == j[1]]\r\n",
    "lst_out = \" \".join(list1)\r\n",
    "print(lst_out)"
   ],
   "outputs": [
    {
     "output_type": "stream",
     "name": "stdout",
     "text": [
      "zab ddd azx\n"
     ]
    }
   ],
   "metadata": {}
  },
  {
   "cell_type": "code",
   "execution_count": 202,
   "source": [
    "#4Q\r\n",
    "\r\n",
    "def Map(func, l):\r\n",
    "    lst_out = []\r\n",
    "    for i in range(len(l)):\r\n",
    "        lst_out.append(func(l[i]))\r\n",
    "    return lst_out\r\n",
    "\r\n",
    "ary = [-1, 2, -3, 4]\r\n",
    "print(Map(abs, ary))\r\n",
    "\r\n",
    "print(sum(Map(lambda x: x**2, [2, 3])))"
   ],
   "outputs": [
    {
     "output_type": "stream",
     "name": "stdout",
     "text": [
      "[1, 2, 3, 4]\n",
      "13\n"
     ]
    }
   ],
   "metadata": {}
  },
  {
   "cell_type": "code",
   "execution_count": 276,
   "source": [
    "#4S\r\n",
    "\r\n",
    "def Join(array, separator=\" \"):\r\n",
    "    a = \"\"\r\n",
    "    for i in range(len(array)):\r\n",
    "        a += (array[i]).__str__() + separator\r\n",
    "    a = a[:-(len(separator))]\r\n",
    "    return a\r\n",
    "\r\n",
    "    \r\n",
    "ary = ['aa', 'bb', 'cc']\r\n",
    "print(Join(ary, '!'))\r\n",
    "\r\n",
    "ary = ['aa', 'bb', 'cc']\r\n",
    "print(Join(ary))\r\n",
    "\r\n",
    "ary = [1, 2, 3]\r\n",
    "print(Join(ary,\"+_\"))"
   ],
   "outputs": [
    {
     "output_type": "stream",
     "name": "stdout",
     "text": [
      "aa!bb!cc\n",
      "aa bb cc\n",
      "1+_2+_3\n"
     ]
    }
   ],
   "metadata": {}
  },
  {
   "cell_type": "code",
   "execution_count": 287,
   "source": [
    "#4N\r\n",
    "\"\"\"\r\n",
    "    Код пиздец гавно, мне за него очень стыдно. \r\n",
    "    Но он работет и мне лень его менять\r\n",
    "\"\"\"\r\n",
    "a, b, c = list(map(int, input().split()))\r\n",
    "str_out = []\r\n",
    "### A B\r\n",
    "if a < b:\r\n",
    "    j = a\r\n",
    "    for i in range(a):\r\n",
    "        if a % j == 0 and b % j == 0:\r\n",
    "            str_out.append(j)\r\n",
    "            break\r\n",
    "        else:\r\n",
    "            j -= 1\r\n",
    "elif a > b:\r\n",
    "    j = b\r\n",
    "    for i in range(b):\r\n",
    "        if a % j == 0 and b % j == 0:\r\n",
    "            str_out.append(j)\r\n",
    "            break\r\n",
    "        else:\r\n",
    "            j -= 1\r\n",
    "else:\r\n",
    "    str_out.append(a)\r\n",
    "### A C\r\n",
    "if a < c:\r\n",
    "    j = a\r\n",
    "    for i in range(a):\r\n",
    "        if a % j == 0 and c % j == 0:\r\n",
    "            str_out.append(j)\r\n",
    "            break\r\n",
    "        else:\r\n",
    "            j -= 1\r\n",
    "elif a > c:\r\n",
    "    j = c\r\n",
    "    for i in range(c):\r\n",
    "        if a % j == 0 and c % j == 0:\r\n",
    "            str_out.append(j)\r\n",
    "            break\r\n",
    "        else:\r\n",
    "            j -= 1\r\n",
    "else:\r\n",
    "    str_out.append(c)\r\n",
    "### B C\r\n",
    "if c < b:\r\n",
    "    j = c\r\n",
    "    for i in range(c):\r\n",
    "        if c % j == 0 and b % j == 0:\r\n",
    "            str_out.append(j)\r\n",
    "            break\r\n",
    "        else:\r\n",
    "            j -= 1\r\n",
    "elif c > b:\r\n",
    "    j = b\r\n",
    "    for i in range(b):\r\n",
    "        if c % j == 0 and b % j == 0:\r\n",
    "            str_out.append(j)\r\n",
    "            break\r\n",
    "        else:\r\n",
    "            j -= 1\r\n",
    "else:\r\n",
    "    str_out.append(b)\r\n",
    "\r\n",
    "print(*str_out)"
   ],
   "outputs": [
    {
     "output_type": "stream",
     "name": "stdout",
     "text": [
      "1 1 1\n"
     ]
    }
   ],
   "metadata": {}
  },
  {
   "cell_type": "code",
   "execution_count": null,
   "source": [
    "#4L [a2.append(i**2) for i in a1 if i > 0]"
   ],
   "outputs": [],
   "metadata": {}
  },
  {
   "cell_type": "code",
   "execution_count": 308,
   "source": [
    "#4T\r\n",
    "with open('input.txt', 'r') as fin:\r\n",
    "    a, b, t, d = map(str, fin.read().split())\r\n",
    "\r\n",
    "#a = int(input())\r\n",
    "#str_list = []\r\n",
    "#for i in range(a):\r\n",
    "#    str_list.append(input().split())\r\n",
    "#\r\n",
    "#print(*str_list)\r\n",
    "\r\n",
    "print(a, b, t)\r\n"
   ],
   "outputs": [
    {
     "output_type": "error",
     "ename": "TypeError",
     "evalue": "'list' object is not callable",
     "traceback": [
      "\u001b[1;31m---------------------------------------------------------------------------\u001b[0m",
      "\u001b[1;31mTypeError\u001b[0m                                 Traceback (most recent call last)",
      "\u001b[1;32mC:\\Users\\PERETO~1.YUS\\AppData\\Local\\Temp/ipykernel_22748/2582619590.py\u001b[0m in \u001b[0;36m<module>\u001b[1;34m\u001b[0m\n\u001b[0;32m      1\u001b[0m \u001b[1;31m#4T\u001b[0m\u001b[1;33m\u001b[0m\u001b[1;33m\u001b[0m\u001b[1;33m\u001b[0m\u001b[0m\n\u001b[0;32m      2\u001b[0m \u001b[1;32mwith\u001b[0m \u001b[0mopen\u001b[0m\u001b[1;33m(\u001b[0m\u001b[1;34m'input.txt'\u001b[0m\u001b[1;33m,\u001b[0m \u001b[1;34m'r'\u001b[0m\u001b[1;33m)\u001b[0m \u001b[1;32mas\u001b[0m \u001b[0mfin\u001b[0m\u001b[1;33m:\u001b[0m\u001b[1;33m\u001b[0m\u001b[1;33m\u001b[0m\u001b[0m\n\u001b[1;32m----> 3\u001b[1;33m     \u001b[0ma\u001b[0m\u001b[1;33m,\u001b[0m \u001b[0mb\u001b[0m\u001b[1;33m,\u001b[0m \u001b[0mt\u001b[0m\u001b[1;33m,\u001b[0m \u001b[0md\u001b[0m \u001b[1;33m=\u001b[0m \u001b[0mmap\u001b[0m\u001b[1;33m(\u001b[0m\u001b[0mstr\u001b[0m\u001b[1;33m,\u001b[0m \u001b[0mfin\u001b[0m\u001b[1;33m.\u001b[0m\u001b[0mread\u001b[0m\u001b[1;33m(\u001b[0m\u001b[1;33m)\u001b[0m\u001b[1;33m.\u001b[0m\u001b[0msplit\u001b[0m\u001b[1;33m(\u001b[0m\u001b[1;33m)\u001b[0m\u001b[1;33m)\u001b[0m\u001b[1;33m\u001b[0m\u001b[1;33m\u001b[0m\u001b[0m\n\u001b[0m\u001b[0;32m      4\u001b[0m \u001b[1;33m\u001b[0m\u001b[0m\n\u001b[0;32m      5\u001b[0m \u001b[1;31m#a = int(input())\u001b[0m\u001b[1;33m\u001b[0m\u001b[1;33m\u001b[0m\u001b[1;33m\u001b[0m\u001b[0m\n",
      "\u001b[1;31mTypeError\u001b[0m: 'list' object is not callable"
     ]
    }
   ],
   "metadata": {}
  },
  {
   "cell_type": "code",
   "execution_count": 316,
   "source": [
    "#5B\r\n",
    "\r\n",
    "class Time:\r\n",
    "    # Конструктор, принимающий четыре целых числа: часы, минуты, секунды и миллисекунды.\r\n",
    "    # В случае, если передан отрицательный параметр, вызвать исключение ValueError.\r\n",
    "    # После конструирования, значения параметров времени должны быть корректными:\r\n",
    "    # 0 <= GetHour() <= 23\r\n",
    "    # 0 <= GetMinute() <= 59\r\n",
    "    # 0 <= GetSecond() <= 59\r\n",
    "    # 0 <= GetMillisecond() <= 999\r\n",
    "    def __init__(self, hours=0, minutes=0, seconds=0, milliseconds=0):\r\n",
    "        self.hours = hours\r\n",
    "        self.minutes = minutes\r\n",
    "        self.seconds = seconds\r\n",
    "        self.milliseconds = milliseconds\r\n",
    "    def GetHour(self):\r\n",
    "        if self.hours < 0:\r\n",
    "            return \"ValueError\"\r\n",
    "    def GetMinute(self):\r\n",
    "        if self.minutes < 0:\r\n",
    "            return \"ValueError\"\r\n",
    "    def GetSecond(self):\r\n",
    "        if self.seconds < 0:\r\n",
    "            return \"ValueError\"\r\n",
    "    def GetMillisecond(self):\r\n",
    "        if self.seconds < 0:\r\n",
    "            return \"ValueError\"\r\n",
    "    # Прибавляет указанное количество времени к текущему объекту.\r\n",
    "    # После выполнения этой операции параметры времени должны остаться корректными.\r\n",
    "    def Add(self, time):\r\n",
    "        pass\r\n",
    "    # Оператор str должен представлять время в формате\r\n",
    "    # HH:MM:SS.milliseconds\r\n",
    "    def __str__(self):\r\n",
    "        pass\r\n",
    "\r\n",
    "\t\r\n",
    "time = Time(-25, -11, -12, -1)\r\n",
    "print(time.__str__())"
   ],
   "outputs": [
    {
     "output_type": "stream",
     "name": "stdout",
     "text": [
      "None\n"
     ]
    }
   ],
   "metadata": {}
  },
  {
   "cell_type": "code",
   "execution_count": 313,
   "source": [
    "print(ValueError)"
   ],
   "outputs": [
    {
     "output_type": "stream",
     "name": "stdout",
     "text": [
      "<class 'ValueError'>\n"
     ]
    }
   ],
   "metadata": {}
  }
 ],
 "metadata": {
  "orig_nbformat": 4,
  "language_info": {
   "name": "python",
   "version": "3.9.6",
   "mimetype": "text/x-python",
   "codemirror_mode": {
    "name": "ipython",
    "version": 3
   },
   "pygments_lexer": "ipython3",
   "nbconvert_exporter": "python",
   "file_extension": ".py"
  },
  "kernelspec": {
   "name": "python3",
   "display_name": "Python 3.9.6 64-bit"
  },
  "interpreter": {
   "hash": "8cc3f21c551cfee97d7e38df2dbc96e196615717cec21201fc9222b2cd92e292"
  }
 },
 "nbformat": 4,
 "nbformat_minor": 2
}